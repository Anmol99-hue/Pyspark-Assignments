{
 "cells": [
  {
   "cell_type": "code",
   "execution_count": 2,
   "id": "c614afa3-cd22-4bc8-9e44-999f22b5f4bf",
   "metadata": {},
   "outputs": [
    {
     "name": "stdout",
     "output_type": "stream",
     "text": [
      "Requirement already satisfied: pyspark in /opt/anaconda3/lib/python3.12/site-packages (3.5.3)\n",
      "Requirement already satisfied: py4j==0.10.9.7 in /opt/anaconda3/lib/python3.12/site-packages (from pyspark) (0.10.9.7)\n",
      "Note: you may need to restart the kernel to use updated packages.\n"
     ]
    }
   ],
   "source": [
    "pip install pyspark"
   ]
  },
  {
   "cell_type": "code",
   "execution_count": 3,
   "id": "c6572724-2327-4950-8ece-afec2bb7cb3a",
   "metadata": {},
   "outputs": [
    {
     "name": "stdout",
     "output_type": "stream",
     "text": [
      "Requirement already satisfied: pyspark in /opt/anaconda3/lib/python3.12/site-packages (3.5.3)\n",
      "Requirement already satisfied: py4j==0.10.9.7 in /opt/anaconda3/lib/python3.12/site-packages (from pyspark) (0.10.9.7)\n",
      "Note: you may need to restart the kernel to use updated packages.\n"
     ]
    }
   ],
   "source": [
    "pip install --upgrade pyspark"
   ]
  },
  {
   "cell_type": "markdown",
   "id": "19ed5fe8-e6d1-4e37-bfba-c25530e8583e",
   "metadata": {},
   "source": [
    "***1. Data Loading and Initial Exploration***"
   ]
  },
  {
   "cell_type": "code",
   "execution_count": 5,
   "id": "82b851c0-91f5-4b4f-875a-30395e2a0d2a",
   "metadata": {},
   "outputs": [],
   "source": [
    "from pyspark.sql import SparkSession\n",
    "from pyspark.sql.functions import col, when, min, max\n",
    "from pyspark.sql.functions import avg, stddev, expr"
   ]
  },
  {
   "cell_type": "code",
   "execution_count": 6,
   "id": "45693e69-ea25-4a06-a11a-c20732100117",
   "metadata": {},
   "outputs": [
    {
     "name": "stderr",
     "output_type": "stream",
     "text": [
      "Setting default log level to \"WARN\".\n",
      "To adjust logging level use sc.setLogLevel(newLevel). For SparkR, use setLogLevel(newLevel).\n",
      "24/11/06 22:24:25 WARN NativeCodeLoader: Unable to load native-hadoop library for your platform... using builtin-java classes where applicable\n",
      "24/11/06 22:24:25 WARN Utils: Service 'SparkUI' could not bind on port 4040. Attempting port 4041.\n",
      "24/11/06 22:24:25 WARN Utils: Service 'SparkUI' could not bind on port 4041. Attempting port 4042.\n",
      "24/11/06 22:24:25 WARN Utils: Service 'SparkUI' could not bind on port 4042. Attempting port 4043.\n",
      "24/11/06 22:24:25 WARN Utils: Service 'SparkUI' could not bind on port 4043. Attempting port 4044.\n",
      "24/11/06 22:24:25 WARN Utils: Service 'SparkUI' could not bind on port 4044. Attempting port 4045.\n"
     ]
    }
   ],
   "source": [
    "spark = SparkSession.builder \\\n",
    "    .appName(\"AnimeDatasetApplication\") \\\n",
    "    .getOrCreate()\n",
    "\n",
    "\n",
    "# Set Spark log level to ERROR to suppress warnings\n",
    "spark.sparkContext.setLogLevel(\"ERROR\")"
   ]
  },
  {
   "cell_type": "code",
   "execution_count": 7,
   "id": "24629926-3113-4eaa-a34d-9b4312cdfcc1",
   "metadata": {},
   "outputs": [
    {
     "name": "stderr",
     "output_type": "stream",
     "text": [
      "                                                                                \r"
     ]
    }
   ],
   "source": [
    "# Now you can read the CSV file\n",
    "df = spark.read.csv(\"animedataset.csv\", header=True, inferSchema=True)\n",
    "\n",
    "# Repartition data for better performance\n",
    "df = df.repartition(4)\n"
   ]
  },
  {
   "cell_type": "code",
   "execution_count": 8,
   "id": "31e3f33b-49c8-48f2-b762-d9251392fd72",
   "metadata": {},
   "outputs": [
    {
     "name": "stdout",
     "output_type": "stream",
     "text": [
      "root\n",
      " |-- username: string (nullable = true)\n",
      " |-- anime_id: integer (nullable = true)\n",
      " |-- my_score: integer (nullable = true)\n",
      " |-- user_id: integer (nullable = true)\n",
      " |-- gender: string (nullable = true)\n",
      " |-- title: string (nullable = true)\n",
      " |-- type: string (nullable = true)\n",
      " |-- source: string (nullable = true)\n",
      " |-- score: string (nullable = true)\n",
      " |-- scored_by: double (nullable = true)\n",
      " |-- rank: double (nullable = true)\n",
      " |-- popularity: double (nullable = true)\n",
      " |-- genre: string (nullable = true)\n",
      "\n"
     ]
    },
    {
     "name": "stderr",
     "output_type": "stream",
     "text": [
      "[Stage 2:=======================================================> (33 + 1) / 34]\r"
     ]
    },
    {
     "name": "stdout",
     "output_type": "stream",
     "text": [
      "+------------+--------+--------+-------+------+-----------------------------------------+-----+------------+-----+---------+------+----------+---------------------------------------------------------+\n",
      "|username    |anime_id|my_score|user_id|gender|title                                    |type |source      |score|scored_by|rank  |popularity|genre                                                    |\n",
      "+------------+--------+--------+-------+------+-----------------------------------------+-----+------------+-----+---------+------+----------+---------------------------------------------------------+\n",
      "|Ilardii     |9936    |0       |4614676|Male  |Maken-Ki!                                |TV   |Manga       |6.62 |70384.0  |5123.0|580.0     |Action, Ecchi, Harem, Martial Arts, School, Super Power  |\n",
      "|slipkorna   |6880    |7       |201829 |Male  |Deadman Wonderland                       |TV   |Manga       |7.41 |368860.0 |1966.0|53.0      |Action, Sci-Fi, Horror, Shounen                          |\n",
      "|ThermalDrain|10397   |7       |4297901|Male  |Mashiro-iro Symphony: The Color of Lovers|TV   |Visual novel|7.25 |50413.0  |2621.0|873.0     |Harem, Drama, Romance, School                            |\n",
      "|migadbr     |34540   |8       |419841 |Male  |Pokemon: Kimi ni Kimeta!                 |Movie|Game        |7.36 |6331.0   |2198.0|3444.0    |Action, Adventure, Comedy, Kids                          |\n",
      "|ninja-nerd  |1532    |6       |64770  |Female|Suki na Mono wa Suki Dakara Shou ga Nai!!|TV   |Visual novel|6.89 |17632.0  |3966.0|1918.0    |Comedy, Drama, Romance, Shoujo, Shounen Ai, Slice of Life|\n",
      "|Marifrit    |20031   |8       |2648153|Male  |D-Frag!                                  |TV   |Manga       |7.7  |114663.0 |1100.0|336.0     |Game, Comedy, School, Seinen                             |\n",
      "|PgS172      |2989    |9       |76344  |Male  |Classmate no Okaasan                     |OVA  |Visual novel|6.12 |1249.0   |NULL  |5723.0    |Hentai, School                                           |\n",
      "|K04et       |7593    |6       |94667  |Male  |Kiss x Sis (TV)                          |TV   |Manga       |6.97 |175745.0 |3680.0|224.0     |Harem, Comedy, Romance, Ecchi, School, Seinen            |\n",
      "|winkpedia   |106     |8       |3835427|Female|Hana yori Dango                          |TV   |Manga       |7.85 |14464.0  |790.0 |1936.0    |Drama, Romance, School, Shoujo                           |\n",
      "|Kwertie     |12365   |9       |2824873|Male  |Bakuman. 3rd Season                      |TV   |Manga       |8.67 |107767.0 |50.0  |426.0     |Comedy, Drama, Romance, Shounen                          |\n",
      "+------------+--------+--------+-------+------+-----------------------------------------+-----+------------+-----+---------+------+----------+---------------------------------------------------------+\n",
      "only showing top 10 rows\n",
      "\n"
     ]
    },
    {
     "name": "stderr",
     "output_type": "stream",
     "text": [
      "                                                                                \r"
     ]
    }
   ],
   "source": [
    "# Display the schema of the dataset\n",
    "df.printSchema()\n",
    "\n",
    "# Show the first 10 rows of the dataset\n",
    "df.show(10, truncate=False)\n"
   ]
  },
  {
   "cell_type": "code",
   "execution_count": 9,
   "id": "b441e9e7-8a28-4ae3-a70a-f1b473729ee8",
   "metadata": {},
   "outputs": [
    {
     "name": "stderr",
     "output_type": "stream",
     "text": [
      "[Stage 5:=======================================================> (33 + 1) / 34]\r"
     ]
    },
    {
     "name": "stdout",
     "output_type": "stream",
     "text": [
      "Total number of rows: 35305695\n"
     ]
    },
    {
     "name": "stderr",
     "output_type": "stream",
     "text": [
      "                                                                                \r"
     ]
    }
   ],
   "source": [
    "# Count the total number of rows in the dataset\n",
    "total_rows = df.count()\n",
    "print(f\"Total number of rows: {total_rows}\")\n"
   ]
  },
  {
   "cell_type": "markdown",
   "id": "98164757-7e94-413b-ada0-60c48d196983",
   "metadata": {},
   "source": [
    "The above code snippets sets up a PySpark application called \"AnimeDatasetApplication\" to analyze an anime-related CSV dataset. After configuring it to minimize warnings, the data is loaded into a DataFrame and split into four parts to boost performance. The code then displays the dataset's structure, showing columns like username, anime_id, title, type, and genre. It prints the first 10 rows, showcasing sample user reviews and anime details, and counts the total number of rows, revealing that the dataset contains 35,305,695 entries."
   ]
  },
  {
   "cell_type": "markdown",
   "id": "f02b5814-0f03-4587-9e13-1035ca058005",
   "metadata": {},
   "source": [
    "***2. Data Cleaning and Transformation***"
   ]
  },
  {
   "cell_type": "code",
   "execution_count": 12,
   "id": "0846a3ce-81f8-4368-8a48-c3262ef913fa",
   "metadata": {},
   "outputs": [
    {
     "name": "stdout",
     "output_type": "stream",
     "text": [
      "After Handling Missing Values:\n"
     ]
    },
    {
     "name": "stderr",
     "output_type": "stream",
     "text": [
      "[Stage 11:======================================================> (33 + 1) / 34]\r"
     ]
    },
    {
     "name": "stdout",
     "output_type": "stream",
     "text": [
      "+--------------+--------+--------+-------+------+--------------------+-------+------------+-----+---------+------+----------+--------------------+\n",
      "|      username|anime_id|my_score|user_id|gender|               title|   type|      source|score|scored_by|  rank|popularity|               genre|\n",
      "+--------------+--------+--------+-------+------+--------------------+-------+------------+-----+---------+------+----------+--------------------+\n",
      "|       Ilardii|    9936|       0|4614676|  Male|           Maken-Ki!|     TV|       Manga| 6.62|  70384.0|5123.0|     580.0|Action, Ecchi, Ha...|\n",
      "|     slipkorna|    6880|       7| 201829|  Male|  Deadman Wonderland|     TV|       Manga| 7.41| 368860.0|1966.0|      53.0|Action, Sci-Fi, H...|\n",
      "|  ThermalDrain|   10397|       7|4297901|  Male|Mashiro-iro Symph...|     TV|Visual novel| 7.25|  50413.0|2621.0|     873.0|Harem, Drama, Rom...|\n",
      "|       migadbr|   34540|       8| 419841|  Male|Pokemon: Kimi ni ...|  Movie|        Game| 7.36|   6331.0|2198.0|    3444.0|Action, Adventure...|\n",
      "|    ninja-nerd|    1532|       6|  64770|Female|Suki na Mono wa S...|     TV|Visual novel| 6.89|  17632.0|3966.0|    1918.0|Comedy, Drama, Ro...|\n",
      "|      Marifrit|   20031|       8|2648153|  Male|             D-Frag!|     TV|       Manga|  7.7| 114663.0|1100.0|     336.0|Game, Comedy, Sch...|\n",
      "|        PgS172|    2989|       9|  76344|  Male|Classmate no Okaasan|    OVA|Visual novel| 6.12|   1249.0|   0.0|    5723.0|      Hentai, School|\n",
      "|         K04et|    7593|       6|  94667|  Male|     Kiss x Sis (TV)|     TV|       Manga| 6.97| 175745.0|3680.0|     224.0|Harem, Comedy, Ro...|\n",
      "|     winkpedia|     106|       8|3835427|Female|     Hana yori Dango|     TV|       Manga| 7.85|  14464.0| 790.0|    1936.0|Drama, Romance, S...|\n",
      "|       Kwertie|   12365|       9|2824873|  Male| Bakuman. 3rd Season|     TV|       Manga| 8.67| 107767.0|  50.0|     426.0|Comedy, Drama, Ro...|\n",
      "|   Dreamlander|     247|       0|  69796|  Male|Harukanaru Toki n...|     TV|Visual novel| 7.14|   5362.0|3040.0|    2884.0|Fantasy, Magic, S...|\n",
      "|         Jario|   20785|       8| 295988|  Male|Mahouka Koukou no...|     TV| Light novel| 7.74| 235728.0|1021.0|     102.0|Action, Sci-Fi, S...|\n",
      "|  nighthawk741|      59|       6| 401053|  Male|             Chobits|     TV|       Manga| 7.53| 175388.0|1546.0|     188.0|Sci-Fi, Comedy, D...|\n",
      "|     DeepBrook|    3958|       6|  10814|  Male|             Kannagi|     TV|       Manga| 7.39|  51941.0|2072.0|     791.0|Comedy, School, S...|\n",
      "|Eternal_Shield|    7662|       9| 276576|  Male|Shinrei Tantei Ya...|     TV|       Novel| 7.44|  41283.0|1866.0|     919.0|Horror, Mystery, ...|\n",
      "|   OromisMasta|   16009|       9| 427380|  Male|Kamisama no Inai ...|     TV| Light novel| 7.47|  65701.0|1731.0|     529.0|    Fantasy, Mystery|\n",
      "|       ZenosyX|    7785|       0|  25530|  Male|Yojouhan Shinwa T...|     TV|       Novel| 8.65|  60508.0|  61.0|     421.0|Mystery, Comedy, ...|\n",
      "|        Moeker|   13215|       5| 136240|  Male|Guskou Budori no ...|  Movie|       Novel| 6.33|   1242.0|6258.0|    5536.0|Slice of Life, Ki...|\n",
      "|    rzaevorhan|    1729|       0| 239016|  Male|Maria-sama ga Mit...|    OVA| Light novel| 7.95|   7247.0| 619.0|    3137.0|Drama, School, Sh...|\n",
      "|        Silion|    6351|       7|1504167|  Male|Clannad: After St...|Special|Visual novel| 7.97| 110530.0| 587.0|     483.0|Drama, Romance, S...|\n",
      "+--------------+--------+--------+-------+------+--------------------+-------+------------+-----+---------+------+----------+--------------------+\n",
      "only showing top 20 rows\n",
      "\n"
     ]
    },
    {
     "name": "stderr",
     "output_type": "stream",
     "text": [
      "                                                                                \r"
     ]
    }
   ],
   "source": [
    "# 1. Handling Missing Values: Fill or Drop Nulls\n",
    "df_cleaned = df.na.fill({\"rank\": 0})\n",
    "print(\"After Handling Missing Values:\")\n",
    "df_cleaned.show()\n"
   ]
  },
  {
   "cell_type": "code",
   "execution_count": 13,
   "id": "37c5ad50-f118-4f43-9412-64dec4bb9e51",
   "metadata": {},
   "outputs": [
    {
     "name": "stdout",
     "output_type": "stream",
     "text": [
      "After Removing Duplicates:\n"
     ]
    },
    {
     "name": "stderr",
     "output_type": "stream",
     "text": [
      "[Stage 19:>                                                         (0 + 1) / 1]\r"
     ]
    },
    {
     "name": "stdout",
     "output_type": "stream",
     "text": [
      "+-------------+--------+--------+-------+------+--------------------+-------+------------+-----+---------+------+----------+--------------------+\n",
      "|     username|anime_id|my_score|user_id|gender|               title|   type|      source|score|scored_by|  rank|popularity|               genre|\n",
      "+-------------+--------+--------+-------+------+--------------------+-------+------------+-----+---------+------+----------+--------------------+\n",
      "|       domine|    1284|       0| 717529|  Male|   Houma Hunter Lime|    OVA|Visual novel|  6.1|    445.0|7080.0|    7976.0|     Comedy, Fantasy|\n",
      "|  BluValkyree|   36480|       0|5494735|  Male|      Drifters (OVA)|    OVA|       Manga| 7.61|   4286.0|1323.0|    1752.0|Action, Adventure...|\n",
      "|    bigkfc2k8|    5909|       0| 100833|  Male| Seitokai no Ichizon|     TV| Light novel| 7.45|  59653.0|1822.0|     632.0|Harem, Comedy, Pa...|\n",
      "|kuramafan3000|    2265|       0| 250424|  Male|Transformers the ...|  Movie|     Unknown|  7.9|   5796.0| 706.0|    3882.0|       Action, Mecha|\n",
      "| Johnyschimpo|   34978|       0|1541137|  Male|Nobunaga no Shino...|     TV|4-koma manga| 7.14|   3116.0|3048.0|    4305.0|  Comedy, Historical|\n",
      "|      Pewpers|   17074|      10|   6551|  Male|Monogatari Series...|     TV| Light novel| 8.77| 161651.0|  32.0|     207.0|Mystery, Comedy, ...|\n",
      "|       domine|     384|       0| 717529|  Male|               Gantz|     TV|       Manga|  7.2| 109756.0|2810.0|     355.0|Action, Sci-Fi, H...|\n",
      "|     mugen776|     724|       0|3646219|Female|               Enzai|    OVA|Visual novel| 5.48|   9061.0|   0.0|    2969.0|Hentai, Horror, Yaoi|\n",
      "|      Nerdist|    6633|       0| 125273|Female|Queen&#039;s Blad...|     TV|       Other| 6.69|  15944.0|4811.0|    1869.0|Action, Adventure...|\n",
      "|Mono-no-aware|    8934|       7|  16707|Female|Star Driver: Kaga...|     TV|    Original| 7.32|  31812.0|2360.0|    1052.0|Action, Romance, ...|\n",
      "|UndyingdreamZ|    2472|       9| 270763|Female|Naruto: Shippuude...|  Movie|       Manga| 7.41|  85391.0|1983.0|     597.0|Action, Adventure...|\n",
      "|     Babaxoon|   33486|       9|  53173|  Male|Boku no Hero Acad...|     TV|       Manga| 8.76| 350352.0|  35.0|      57.0|Action, Comedy, S...|\n",
      "|    Infernus_|   33569|       6| 169608|  Male|Re:Petit kara Haj...|Special| Light novel| 6.86|  11001.0|4085.0|    2385.0|Adventure, Comedy...|\n",
      "|      Nick_xD|    9863|       0| 166714|  Male|          SKET Dance|     TV|       Manga| 8.33|  44132.0| 213.0|     646.0|Comedy, School, S...|\n",
      "|   lovelypops|   12695|       6| 443941|Female|          Tight-rope|    OVA|       Manga| 7.25|  14254.0|2634.0|    2312.0| Romance, Shounen Ai|\n",
      "| streetcutter|   31234|       7|6284425|  Male|Himouto! Umaru-chanS|Special|       Manga| 6.98|  13467.0|3639.0|    2118.0|Comedy, Seinen, S...|\n",
      "|        Itami|    7054|       8| 561015|Female|Kaichou wa Maid-s...|     TV|       Manga|  8.2| 315130.0| 314.0|      71.0|Comedy, Romance, ...|\n",
      "|       AceJRC|   31859|       0|2688031|  Male|Hai to Gensou no ...|     TV| Light novel| 7.83| 179108.0| 830.0|     163.0|Action, Adventure...|\n",
      "|  shadeslayer|   11597|       0| 144347|  Male|      Nisemonogatari|     TV| Light novel|  8.2| 215305.0| 318.0|     146.0|Mystery, Comedy, ...|\n",
      "|     FlameYeo|   31452|       0|4678376|  Male|   Norn9: Norn+Nonet|     TV|Visual novel| 6.68|  16498.0|4854.0|    1512.0|Sci-Fi, Adventure...|\n",
      "+-------------+--------+--------+-------+------+--------------------+-------+------------+-----+---------+------+----------+--------------------+\n",
      "only showing top 20 rows\n",
      "\n"
     ]
    },
    {
     "name": "stderr",
     "output_type": "stream",
     "text": [
      "                                                                                \r"
     ]
    }
   ],
   "source": [
    "# 2. Removing Duplicate Rows\n",
    "df_no_duplicates = df_cleaned.dropDuplicates()\n",
    "print(\"After Removing Duplicates:\")\n",
    "df_no_duplicates.show()\n"
   ]
  },
  {
   "cell_type": "code",
   "execution_count": 14,
   "id": "0f7109a6-0a98-4d2f-ad5c-e37226a0532d",
   "metadata": {},
   "outputs": [
    {
     "name": "stdout",
     "output_type": "stream",
     "text": [
      "After Data Type Conversion:\n",
      "root\n",
      " |-- username: string (nullable = true)\n",
      " |-- anime_id: integer (nullable = true)\n",
      " |-- my_score: integer (nullable = true)\n",
      " |-- user_id: integer (nullable = true)\n",
      " |-- gender: string (nullable = true)\n",
      " |-- title: string (nullable = true)\n",
      " |-- type: string (nullable = true)\n",
      " |-- source: string (nullable = true)\n",
      " |-- score: string (nullable = true)\n",
      " |-- scored_by: double (nullable = true)\n",
      " |-- rank: integer (nullable = true)\n",
      " |-- popularity: double (nullable = true)\n",
      " |-- genre: string (nullable = true)\n",
      "\n"
     ]
    }
   ],
   "source": [
    "# 3. Converting Data Types\n",
    "df_converted = df_no_duplicates.withColumn(\"rank\", col(\"rank\").cast(\"int\"))\n",
    "print(\"After Data Type Conversion:\")\n",
    "df_converted.printSchema()\n"
   ]
  },
  {
   "cell_type": "code",
   "execution_count": 15,
   "id": "caaf0713-306e-4186-b99b-fa618b44445b",
   "metadata": {},
   "outputs": [
    {
     "name": "stdout",
     "output_type": "stream",
     "text": [
      "After Filtering Invalid Rows:\n"
     ]
    },
    {
     "name": "stderr",
     "output_type": "stream",
     "text": [
      "[Stage 25:>                                                         (0 + 1) / 1]\r"
     ]
    },
    {
     "name": "stdout",
     "output_type": "stream",
     "text": [
      "+--------------+--------+--------+-------+------+--------------------+-------+------------+-----+---------+----+----------+--------------------+\n",
      "|      username|anime_id|my_score|user_id|gender|               title|   type|      source|score|scored_by|rank|popularity|               genre|\n",
      "+--------------+--------+--------+-------+------+--------------------+-------+------------+-----+---------+----+----------+--------------------+\n",
      "|       siston7|    9170|       5|4518808|  Male|Kimi ga Nozomu Ei...|Special|     Unknown| 5.54|   1850.0|8302|    4989.0|Mecha, Parody, Sc...|\n",
      "|      chusetto|    1011|       7| 157582|  Male|       Ranma ½ Super|    OVA|       Manga| 7.76|   5783.0| 973|    3416.0|Adventure, Comedy...|\n",
      "|     FIREatSKY|    1830|       8|  76342|Female|Utawarerumono Spe...|Special|     Unknown| 7.71|   6595.0|1096|    3356.0|Action, Fantasy, ...|\n",
      "| BakeruLycoris|    8915|       7|1300189|Female|  Dantalian no Shoka|     TV| Light novel| 7.32|  41506.0|2328|     855.0|Action, Mystery, ...|\n",
      "|         Egleh|   15809|       7|4162037|  Male| Hataraku Maou-sama!|     TV| Light novel| 7.98| 389033.0| 578|      51.0|Comedy, Demons, S...|\n",
      "|         Godou|   10321|       8|2202717|  Male|Uta no☆Prince-sam...|     TV|Visual novel|  7.3|  64093.0|2446|     652.0|Harem, Music, Com...|\n",
      "| CapitalistGod|   20853|       5|5112063|  Male|   Hitsugi no Chaika|     TV| Light novel| 7.41| 107139.0|1972|     326.0|Action, Adventure...|\n",
      "| UndyingdreamZ|    2472|       9| 270763|Female|Naruto: Shippuude...|  Movie|       Manga| 7.41|  85391.0|1983|     597.0|Action, Adventure...|\n",
      "|      Babaxoon|   33486|       9|  53173|  Male|Boku no Hero Acad...|     TV|       Manga| 8.76| 350352.0|  35|      57.0|Action, Comedy, S...|\n",
      "|     Infernus_|   33569|       6| 169608|  Male|Re:Petit kara Haj...|Special| Light novel| 6.86|  11001.0|4085|    2385.0|Adventure, Comedy...|\n",
      "| JudgeRuthless|   11843|       1|  16004|  Male|Danshi Koukousei ...|     TV|   Web manga| 8.34| 190559.0| 197|     139.0|Slice of Life, Co...|\n",
      "|   chivaguason|    9203|       8|4266313|  Male|    K-On!!: Ura-On!!|Special|    Original| 6.58|  12577.0|5295|    2234.0|              Comedy|\n",
      "|cutelykamanalo|      64|       6|1730237|  Male|        Rozen Maiden|     TV|       Manga| 7.53|  74301.0|1563|     554.0|Action, Comedy, D...|\n",
      "|  WinterShaker|   16049|       5|5554330|  Male|Toaru Kagaku no R...|     TV|       Manga| 8.12|  92796.0| 418|     442.0|Action, Sci-Fi, S...|\n",
      "|        iKaity|     459|       7| 312293|Female|   One Piece Movie 1|  Movie|       Manga| 7.22|  34768.0|2740|    1392.0|Action, Adventure...|\n",
      "|   HaruMashiro|     263|       7|1040385|  Male|      Hajime no Ippo|     TV|       Manga|  8.8| 116681.0|  28|     313.0|Comedy, Sports, D...|\n",
      "|     Ju-kun143|    1313|       6|1471493|  Male|Digimon Adventure 02|     TV|    Original| 7.35|  95642.0|2224|     565.0|Action, Adventure...|\n",
      "|       Leokage|     226|       8|  67698|  Male|          Elfen Lied|     TV|       Manga| 7.75| 514656.0| 982|      16.0|Action, Horror, P...|\n",
      "|        Volved|   19769|       6|2074253|  Male|        Mahou Sensou|     TV| Light novel| 6.17|  67158.0|6873|     592.0|Action, Fantasy, ...|\n",
      "|      rafaelro|    7769|       6|2661331|  Male|Ookami-san to Shi...|     TV| Light novel| 7.33|  90736.0|2317|     422.0|Comedy, Parody, R...|\n",
      "+--------------+--------+--------+-------+------+--------------------+-------+------------+-----+---------+----+----------+--------------------+\n",
      "only showing top 20 rows\n",
      "\n"
     ]
    },
    {
     "name": "stderr",
     "output_type": "stream",
     "text": [
      "                                                                                \r"
     ]
    }
   ],
   "source": [
    "# 4. Filtering Invalid Rows\n",
    "df_filtered = df_converted.filter((col(\"my_score\") >= 1) & (col(\"my_score\") <= 10))\n",
    "print(\"After Filtering Invalid Rows:\")\n",
    "df_filtered.show()"
   ]
  },
  {
   "cell_type": "code",
   "execution_count": 16,
   "id": "ea7bebcc-04c3-4d90-a8bb-d7e09ba4d38f",
   "metadata": {},
   "outputs": [
    {
     "name": "stderr",
     "output_type": "stream",
     "text": [
      "                                                                                \r"
     ]
    },
    {
     "name": "stdout",
     "output_type": "stream",
     "text": [
      "After Normalizing Score:\n"
     ]
    },
    {
     "name": "stderr",
     "output_type": "stream",
     "text": [
      "[Stage 38:======================================================> (33 + 1) / 34]\r"
     ]
    },
    {
     "name": "stdout",
     "output_type": "stream",
     "text": [
      "+--------------+--------+--------+-------+------+--------------------+-------+------------+-----+---------+------+----------+--------------------+------------------+\n",
      "|      username|anime_id|my_score|user_id|gender|               title|   type|      source|score|scored_by|  rank|popularity|               genre|  normalized_score|\n",
      "+--------------+--------+--------+-------+------+--------------------+-------+------------+-----+---------+------+----------+--------------------+------------------+\n",
      "|       Ilardii|    9936|       0|4614676|  Male|           Maken-Ki!|     TV|       Manga| 6.62|  70384.0|5123.0|     580.0|Action, Ecchi, Ha...|0.6421768563388096|\n",
      "|     slipkorna|    6880|       7| 201829|  Male|  Deadman Wonderland|     TV|       Manga| 7.41| 368860.0|1966.0|      53.0|Action, Sci-Fi, H...| 0.749659843997372|\n",
      "|  ThermalDrain|   10397|       7|4297901|  Male|Mashiro-iro Symph...|     TV|Visual novel| 7.25|  50413.0|2621.0|     873.0|Harem, Drama, Rom...| 0.727891157345249|\n",
      "|       migadbr|   34540|       8| 419841|  Male|Pokemon: Kimi ni ...|  Movie|        Game| 7.36|   6331.0|2198.0|    3444.0|Action, Adventure...|0.7428571618564853|\n",
      "|    ninja-nerd|    1532|       6|  64770|Female|Suki na Mono wa S...|     TV|Visual novel| 6.89|  17632.0|3966.0|    1918.0|Comedy, Drama, Ro...|0.6789115475021689|\n",
      "|      Marifrit|   20031|       8|2648153|  Male|             D-Frag!|     TV|       Manga|  7.7| 114663.0|1100.0|     336.0|Game, Comedy, Sch...|0.7891156209922465|\n",
      "|        PgS172|    2989|       9|  76344|  Male|Classmate no Okaasan|    OVA|Visual novel| 6.12|   1249.0|   0.0|    5723.0|      Hentai, School|0.5741496456751218|\n",
      "|         K04et|    7593|       6|  94667|  Male|     Kiss x Sis (TV)|     TV|       Manga| 6.97| 175745.0|3680.0|     224.0|Harem, Comedy, Ro...|0.6897958908282303|\n",
      "|     winkpedia|     106|       8|3835427|Female|     Hana yori Dango|     TV|       Manga| 7.85|  14464.0| 790.0|    1936.0|Drama, Romance, S...|0.8095237971665136|\n",
      "|       Kwertie|   12365|       9|2824873|  Male| Bakuman. 3rd Season|     TV|       Manga| 8.67| 107767.0|  50.0|     426.0|Comedy, Drama, Ro...|0.9210884460102507|\n",
      "|   Dreamlander|     247|       0|  69796|  Male|Harukanaru Toki n...|     TV|Visual novel| 7.14|   5362.0|3040.0|    2884.0|Fantasy, Magic, S...|0.7129251528340127|\n",
      "|         Jario|   20785|       8| 295988|  Male|Mahouka Koukou no...|     TV| Light novel| 7.74| 235728.0|1021.0|     102.0|Action, Sci-Fi, S...|0.7945577926552773|\n",
      "|  nighthawk741|      59|       6| 401053|  Male|             Chobits|     TV|       Manga| 7.53| 175388.0|1546.0|     188.0|Sci-Fi, Comedy, D...|0.7659864238622678|\n",
      "|     DeepBrook|    3958|       6|  10814|  Male|             Kannagi|     TV|       Manga| 7.39|  51941.0|2072.0|     791.0|Comedy, School, S...|0.7469387581658565|\n",
      "|Eternal_Shield|    7662|       9| 276576|  Male|Shinrei Tantei Ya...|     TV|       Novel| 7.44|  41283.0|1866.0|     919.0|Horror, Mystery, ...|0.7537415051825468|\n",
      "|   OromisMasta|   16009|       9| 427380|  Male|Kamisama no Inai ...|     TV| Light novel| 7.47|  65701.0|1731.0|     529.0|    Fantasy, Mystery| 0.757823101491918|\n",
      "|       ZenosyX|    7785|       0|  25530|  Male|Yojouhan Shinwa T...|     TV|       Novel| 8.65|  60508.0|  61.0|     421.0|Mystery, Comedy, ...|0.9183672953029318|\n",
      "|        Moeker|   13215|       5| 136240|  Male|Guskou Budori no ...|  Movie|       Novel| 6.33|   1242.0|6258.0|    5536.0|Slice of Life, Ki...| 0.602721079343935|\n",
      "|    rzaevorhan|    1729|       0| 239016|  Male|Maria-sama ga Mit...|    OVA| Light novel| 7.95|   7247.0| 619.0|    3137.0|Drama, School, Sh...|0.8231292263240905|\n",
      "|        Silion|    6351|       7|1504167|  Male|Clannad: After St...|Special|Visual novel| 7.97| 110530.0| 587.0|     483.0|Drama, Romance, S...|0.8258503121556058|\n",
      "+--------------+--------+--------+-------+------+--------------------+-------+------------+-----+---------+------+----------+--------------------+------------------+\n",
      "only showing top 20 rows\n",
      "\n"
     ]
    },
    {
     "name": "stderr",
     "output_type": "stream",
     "text": [
      "                                                                                \r"
     ]
    }
   ],
   "source": [
    "# 5. Normalization or Scaling (using min-max scaling on 'score')\n",
    "from pyspark.sql.functions import col, min, max\n",
    "\n",
    "# Convert 'score' to float\n",
    "df_converted = df.withColumn(\"score\", col(\"score\").cast(\"float\"))\n",
    "\n",
    "# Handle Missing Values (for demo purposes)\n",
    "df_cleaned = df_converted.na.fill({\"rank\": 0})\n",
    "\n",
    "# Perform Normalization on 'score'\n",
    "min_score = df_cleaned.agg(min(\"score\")).collect()[0][0]\n",
    "max_score = df_cleaned.agg(max(\"score\")).collect()[0][0]\n",
    "\n",
    "df_normalized = df_cleaned.withColumn(\n",
    "    \"normalized_score\", (col(\"score\") - min_score) / (max_score - min_score)\n",
    ")\n",
    "print(\"After Normalizing Score:\")\n",
    "df_normalized.show()"
   ]
  },
  {
   "cell_type": "markdown",
   "id": "e7aaa816-6720-4468-8188-0783ecc0eb39",
   "metadata": {},
   "source": [
    "PySpark was used to clean and preprocess the dataset in order to maximise model performance and guarantee data quality. Zero was used to fill in the \"rank\" column's missing data. DropDuplicates() was used to eliminate duplicates. An integer type was chosen for the \"rank\" column. The \"my_score\" field was filtered out of any invalid rows (those outside of 1–10). In order to normalise the data between 0 and 1, the \"score\" column was changed to float and subjected to min-max scaling. Following these procedures, the cleaned and altered DataFrame was shown to confirm the modifications."
   ]
  },
  {
   "cell_type": "markdown",
   "id": "4be00ea7-9168-4649-af3d-2876be18f621",
   "metadata": {},
   "source": [
    "***3. Data Analysis Using Spark SQL***"
   ]
  },
  {
   "cell_type": "code",
   "execution_count": 19,
   "id": "d46cc16c-e8dc-43a0-a7ee-cab9b5f58080",
   "metadata": {},
   "outputs": [],
   "source": [
    "# Register DataFrame as a Temporary View\n",
    "df_normalized.createOrReplaceTempView(\"anime_data\")\n"
   ]
  },
  {
   "cell_type": "code",
   "execution_count": 20,
   "id": "9bd2566b-8ffb-4b03-b595-187807dbc28d",
   "metadata": {},
   "outputs": [
    {
     "name": "stdout",
     "output_type": "stream",
     "text": [
      "Summary Statistics:\n"
     ]
    },
    {
     "name": "stderr",
     "output_type": "stream",
     "text": [
      "[Stage 43:>                                                         (0 + 4) / 4]\r"
     ]
    },
    {
     "name": "stdout",
     "output_type": "stream",
     "text": [
      "+-----------------+-----------------+------------------+-----------------+\n",
      "|        avg_score|     avg_my_score|      stddev_score|  stddev_my_score|\n",
      "+-----------------+-----------------+------------------+-----------------+\n",
      "|7.527959653424987|4.591388188222892|0.7278303006678454|3.909502686449895|\n",
      "+-----------------+-----------------+------------------+-----------------+\n",
      "\n"
     ]
    },
    {
     "name": "stderr",
     "output_type": "stream",
     "text": [
      "                                                                                \r"
     ]
    }
   ],
   "source": [
    "# 1. Aggregation: Calculate Summary Statistics\n",
    "summary_stats = spark.sql(\"\"\"\n",
    "    SELECT \n",
    "        AVG(score) AS avg_score,\n",
    "        AVG(my_score) AS avg_my_score,\n",
    "        STDDEV(score) AS stddev_score,\n",
    "        STDDEV(my_score) AS stddev_my_score\n",
    "    FROM anime_data\n",
    "\"\"\")\n",
    "print(\"Summary Statistics:\")\n",
    "summary_stats.show()"
   ]
  },
  {
   "cell_type": "code",
   "execution_count": 21,
   "id": "dc2f737c-0e3a-402d-b575-6abb5d0c0168",
   "metadata": {},
   "outputs": [
    {
     "name": "stderr",
     "output_type": "stream",
     "text": [
      "[Stage 49:>                                                         (0 + 4) / 4]\r"
     ]
    },
    {
     "name": "stdout",
     "output_type": "stream",
     "text": [
      "\n",
      "Insight:\n",
      "On average, the official score is higher than the user rating (my_score).\n",
      "User ratings (my_score) show more variability than the official score (score).\n",
      "Average official score: 7.53\n",
      "Average user rating (my_score): 4.59\n",
      "Standard deviation of official scores: 0.73\n",
      "Standard deviation of user ratings (my_score): 3.91\n"
     ]
    },
    {
     "name": "stderr",
     "output_type": "stream",
     "text": [
      "                                                                                \r"
     ]
    }
   ],
   "source": [
    "# Extract the results for further analysis\n",
    "summary = summary_stats.collect()[0]  # Assuming there is only one row of result\n",
    "avg_score = summary['avg_score']\n",
    "avg_my_score = summary['avg_my_score']\n",
    "stddev_score = summary['stddev_score']\n",
    "stddev_my_score = summary['stddev_my_score']\n",
    "\n",
    "# Creating insights based on the statistics\n",
    "print(\"\\nInsight:\")\n",
    "if avg_score > avg_my_score:\n",
    "    print(\"On average, the official score is higher than the user rating (my_score).\")\n",
    "else:\n",
    "    print(\"On average, the user rating (my_score) is higher than the official score.\")\n",
    "\n",
    "if stddev_score > stddev_my_score:\n",
    "    print(\"The official score (score) shows more variability than user ratings (my_score).\")\n",
    "else:\n",
    "    print(\"User ratings (my_score) show more variability than the official score (score).\")\n",
    "\n",
    "# Additional insights can be added based on the values\n",
    "print(f\"Average official score: {avg_score:.2f}\")\n",
    "print(f\"Average user rating (my_score): {avg_my_score:.2f}\")\n",
    "print(f\"Standard deviation of official scores: {stddev_score:.2f}\")\n",
    "print(f\"Standard deviation of user ratings (my_score): {stddev_my_score:.2f}\")\n"
   ]
  },
  {
   "cell_type": "code",
   "execution_count": 22,
   "id": "0b615659-0ac6-44b1-bac9-08a8cc9143bc",
   "metadata": {},
   "outputs": [
    {
     "data": {
      "image/png": "[encoded data removed]",
      "text/plain": [
       "<Figure size 1000x600 with 1 Axes>"
      ]
     },
     "metadata": {},
     "output_type": "display_data"
    }
   ],
   "source": [
    "import matplotlib.pyplot as plt\n",
    "import seaborn as sns\n",
    "\n",
    "# Collect the result for analysis\n",
    "summary = summary_stats.collect()[0]\n",
    "stddev_score = summary['stddev_score']\n",
    "stddev_my_score = summary['stddev_my_score']\n",
    "\n",
    "# Visualizing the averages in a bar plot\n",
    "plt.figure(figsize=(10, 6))\n",
    "\n",
    "\n",
    "# Bar plot for standard deviation comparison\n",
    "plt.subplot(1, 2, 2)\n",
    "sns.barplot(x=[\"Official Score\", \"User Rating\"], y=[stddev_score, stddev_my_score], hue=[\"Official Score\", \"User Rating\"], palette=\"Set2\", legend=False)\n",
    "plt.title(\"Comparison of Standard Deviations\")\n",
    "plt.ylabel(\"Standard Deviation Value\")\n",
    "\n",
    "# Show the plots\n",
    "plt.tight_layout()\n",
    "plt.show()"
   ]
  },
  {
   "cell_type": "code",
   "execution_count": 23,
   "id": "639f59c5-35bd-4408-8ebb-950de416e773",
   "metadata": {},
   "outputs": [
    {
     "name": "stdout",
     "output_type": "stream",
     "text": [
      "Grouping by Gender:\n"
     ]
    },
    {
     "name": "stderr",
     "output_type": "stream",
     "text": [
      "[Stage 58:>                                                         (0 + 4) / 4]\r"
     ]
    },
    {
     "name": "stdout",
     "output_type": "stream",
     "text": [
      "+----------+-----------+------------------+\n",
      "|    gender|total_users|      avg_my_score|\n",
      "+----------+-----------+------------------+\n",
      "|    Female|    9678908|  4.24000145470956|\n",
      "|Non-Binary|     240434|3.7598509362236623|\n",
      "|      Male|   25386353|  4.73323486047799|\n",
      "+----------+-----------+------------------+\n",
      "\n"
     ]
    },
    {
     "name": "stderr",
     "output_type": "stream",
     "text": [
      "                                                                                \r"
     ]
    }
   ],
   "source": [
    "# 2. Grouping and Filtering: Group by 'gender' and Calculate Aggregates\n",
    "grouped_by_gender = spark.sql(\"\"\"\n",
    "    SELECT \n",
    "        gender, \n",
    "        COUNT(*) AS total_users, \n",
    "        AVG(my_score) AS avg_my_score\n",
    "    FROM anime_data\n",
    "    GROUP BY gender\n",
    "\"\"\")\n",
    "print(\"Grouping by Gender:\")\n",
    "grouped_by_gender.show()"
   ]
  },
  {
   "cell_type": "code",
   "execution_count": 24,
   "id": "583c301a-e400-4c95-8b69-b0b0b61846eb",
   "metadata": {},
   "outputs": [
    {
     "name": "stderr",
     "output_type": "stream",
     "text": [
      "[Stage 64:>                                                         (0 + 4) / 4]\r"
     ]
    },
    {
     "name": "stdout",
     "output_type": "stream",
     "text": [
      "\n",
      "Insight:\n",
      "Total male users: 25386353\n",
      "Total female users: 9678908\n",
      "Average score for male users: 4.73323486047799\n",
      "Average score for female users: 4.24000145470956\n",
      "Males have a higher average score.\n"
     ]
    },
    {
     "name": "stderr",
     "output_type": "stream",
     "text": [
      "                                                                                \r"
     ]
    }
   ],
   "source": [
    "# Collect the results into a Pandas DataFrame for easier analysis\n",
    "grouped_by_gender_df = grouped_by_gender.toPandas()\n",
    "\n",
    "# Insight 1: Gender-wise distribution of users\n",
    "total_male_users = grouped_by_gender_df[grouped_by_gender_df['gender'] == 'Male']['total_users'].values[0]\n",
    "total_female_users = grouped_by_gender_df[grouped_by_gender_df['gender'] == 'Female']['total_users'].values[0]\n",
    "\n",
    "print(\"\\nInsight:\")\n",
    "print(f\"Total male users: {total_male_users}\")\n",
    "print(f\"Total female users: {total_female_users}\")\n",
    "\n",
    "# Insight 2: Comparing average scores by gender\n",
    "avg_male_score = grouped_by_gender_df[grouped_by_gender_df['gender'] == 'Male']['avg_my_score'].values[0]\n",
    "avg_female_score = grouped_by_gender_df[grouped_by_gender_df['gender'] == 'Female']['avg_my_score'].values[0]\n",
    "\n",
    "print(f\"Average score for male users: {avg_male_score}\")\n",
    "print(f\"Average score for female users: {avg_female_score}\")\n",
    "\n",
    "# Insight 3: Gender with higher average score\n",
    "if avg_male_score > avg_female_score:\n",
    "    print(\"Males have a higher average score.\")\n",
    "else:\n",
    "    print(\"Females have a higher average score.\")\n"
   ]
  },
  {
   "cell_type": "code",
   "execution_count": 25,
   "id": "45c2fec0-2b4f-494d-a935-7a9eb927bd02",
   "metadata": {},
   "outputs": [
    {
     "data": {
      "image/png": "[encoded data removed]",
      "text/plain": [
       "<Figure size 800x600 with 2 Axes>"
      ]
     },
     "metadata": {},
     "output_type": "display_data"
    }
   ],
   "source": [
    "import seaborn as sns\n",
    "import matplotlib.pyplot as plt\n",
    "import pandas as pd\n",
    "\n",
    "# Create a DataFrame for the heatmap based on gender, total users, and average score\n",
    "heatmap_data = {\n",
    "    'Gender': ['Male', 'Female'],\n",
    "    'Total Users': [total_male_users, total_female_users],\n",
    "    'Average Score': [avg_male_score, avg_female_score]\n",
    "}\n",
    "\n",
    "heatmap_df = pd.DataFrame(heatmap_data)\n",
    "\n",
    "# Set the index to 'Gender' for better readability in the heatmap\n",
    "heatmap_df.set_index('Gender', inplace=True)\n",
    "\n",
    "# Create the heatmap with a different color scheme (coolwarm)\n",
    "plt.figure(figsize=(8, 6))\n",
    "sns.heatmap(heatmap_df, annot=True, cmap='coolwarm', fmt='.2f', cbar=True, linewidths=0.5)\n",
    "plt.title(\"Gender-wise Distribution and Average Scores\")\n",
    "plt.show()\n"
   ]
  },
  {
   "cell_type": "code",
   "execution_count": 45,
   "id": "0d7d1cc2-f8c1-4e91-b40b-f8f9f17ac225",
   "metadata": {},
   "outputs": [
    {
     "name": "stdout",
     "output_type": "stream",
     "text": [
      "Joined Data:\n"
     ]
    },
    {
     "name": "stderr",
     "output_type": "stream",
     "text": [
      "                                                                                \r"
     ]
    },
    {
     "name": "stdout",
     "output_type": "stream",
     "text": [
      "+-------+---------+--------+--------+------+--------------------+-------+------------+-----+---------+------+----------+--------------------+------------------+---+\n",
      "|user_id| username|anime_id|my_score|gender|               title|   type|      source|score|scored_by|  rank|popularity|               genre|  normalized_score|age|\n",
      "+-------+---------+--------+--------+------+--------------------+-------+------------+-----+---------+------+----------+--------------------+------------------+---+\n",
      "| 201829|slipkorna|    6880|       7|  Male|  Deadman Wonderland|     TV|       Manga| 7.41| 368860.0|1966.0|      53.0|Action, Sci-Fi, H...| 0.749659843997372| 30|\n",
      "| 201829|slipkorna|     553|       6|  Male|     Yami no Matsuei|     TV|       Manga| 7.19|  18684.0|2874.0|    1800.0|Comedy, Drama, Fa...| 0.719727899850703| 30|\n",
      "| 201829|slipkorna|    5118|       7|  Male|Suzumiya Haruhi-c...|    ONA|4-koma manga| 7.58|  40899.0|1414.0|    1051.0|      Comedy, Parody|0.7727891060031543| 30|\n",
      "| 201829|slipkorna|    9756|       8|  Male|Mahou Shoujo Mado...|     TV|    Original| 8.46| 380424.0| 125.0|      50.0|Drama, Magic, Psy...|0.8925170123414377| 30|\n",
      "| 201829|slipkorna|    6747|       4|  Male|Dance in the Vamp...|     TV|       Manga| 7.17|  74236.0|2917.0|     540.0|Action, Supernatu...|0.7170068140191875| 30|\n",
      "| 201829|slipkorna|     849|      10|  Male|Suzumiya Haruhi n...|     TV| Light novel| 7.99| 304612.0| 573.0|      68.0|Comedy, Mystery, ...|0.8285713979871211| 30|\n",
      "| 201829|slipkorna|    8888|       8|  Male|Code Geass: Bouko...|  Movie|    Original| 7.56|  57690.0|1459.0|     756.0|Action, Mecha, Mi...| 0.770068020171639| 30|\n",
      "| 201829|slipkorna|    1089|       9|  Male|Macross: Do You R...|  Movie|    Original| 8.05|  13136.0| 492.0|    2331.0|Action, Space, Me...|0.8367347203574709| 30|\n",
      "| 201829|slipkorna|    8022|       9|  Male|  Tegamibachi Gakuen|Special|    Original| 7.42|   1911.0|1953.0|    4119.0|              Comedy|0.7510204193510315| 30|\n",
      "| 201829|slipkorna|    3024|       8|  Male|     Ribbon no Kishi|     TV|       Manga| 6.78|    550.0|4420.0|    6579.0|Action, Mystery, ...|0.6639456078667362| 30|\n",
      "| 201829|slipkorna|    1292|       8|  Male|        Afro Samurai|     TV|    Original| 7.41| 104548.0|1959.0|     449.0|Action, Adventure...| 0.749659843997372| 30|\n",
      "| 201829|slipkorna|    2548|       8|  Male|Ai no Wakakusa Mo...|     TV|       Novel| 7.61|   1796.0|1318.0|    5130.0|Drama, Historical...|0.7768707671883293| 30|\n",
      "| 201829|slipkorna|    1887|      10|  Male|          Lucky☆Star|     TV|4-koma manga| 7.83| 188372.0| 830.0|     135.0|Slice of Life, Co...|0.8068027113349983| 30|\n",
      "| 201829|slipkorna|     450|       9|  Male|InuYasha: Kagami ...|  Movie|       Manga| 7.75|  37581.0| 991.0|    1278.0|Adventure, Demons...|0.7959183680089368| 30|\n",
      "| 201829|slipkorna|    3784|       7|  Male|Evangelion: 2.0 Y...|  Movie|    Original| 8.44| 141762.0| 138.0|     295.0|Action, Sci-Fi, M...|0.8897958616341186| 30|\n",
      "| 201829|slipkorna|    2951|       8|  Male|Gintama: Nanigoto...|Special|       Manga| 8.13|  19833.0| 398.0|    1931.0|Action, Sci-Fi, C...|0.8476190636835323| 30|\n",
      "| 201829|slipkorna|      24|       7|  Male|       School Rumble|     TV|       Manga| 8.02| 101593.0| 537.0|     347.0|Comedy, Romance, ...|0.8326531240480997| 30|\n",
      "| 201829|slipkorna|   22789|       9|  Male|           Barakamon|     TV|   Web manga| 8.47| 176274.0| 115.0|     176.0|Comedy, Slice of ...|0.8938775876950972| 30|\n",
      "| 201829|slipkorna|    3809|       7|  Male|Shirayuki Hime no...|     TV|     Unknown| 6.73|    861.0|4641.0|    6953.0|Adventure, Fantas...|0.6571428608500459| 30|\n",
      "| 201829|slipkorna|   30276|      10|  Male|       One Punch Man|     TV|   Web manga| 8.73| 691845.0|  44.0|       5.0|Action, Sci-Fi, C...|0.9292516386289933| 30|\n",
      "+-------+---------+--------+--------+------+--------------------+-------+------------+-----+---------+------+----------+--------------------+------------------+---+\n",
      "only showing top 20 rows\n",
      "\n"
     ]
    },
    {
     "name": "stderr",
     "output_type": "stream",
     "text": [
      "                                                                                \r"
     ]
    }
   ],
   "source": [
    "# 3. Joining: Example Join with a Hypothetical Users Table (if available)\n",
    "# Assuming we have another DataFrame called `user_info` with `user_id` and `age`.\n",
    "user_data = [\n",
    "    (4614676, 25), (201829, 30), (4297901, 28), (419841, 22), (64770, 27)\n",
    "]\n",
    "user_columns = [\"user_id\", \"age\"]\n",
    "user_info = spark.createDataFrame(user_data, user_columns)\n",
    "\n",
    "# Join on 'user_id'\n",
    "joined_df = df_normalized.join(user_info, on=\"user_id\", how=\"inner\")\n",
    "print(\"Joined Data:\")\n",
    "joined_df.show()"
   ]
  },
  {
   "cell_type": "code",
   "execution_count": 47,
   "id": "eed0129a-e066-4f2c-b08c-fc2c9d0ee367",
   "metadata": {},
   "outputs": [
    {
     "name": "stdout",
     "output_type": "stream",
     "text": [
      "Average Normalized Score by Age Group:\n"
     ]
    },
    {
     "name": "stderr",
     "output_type": "stream",
     "text": [
      "                                                                                \r"
     ]
    },
    {
     "name": "stdout",
     "output_type": "stream",
     "text": [
      "+---+--------------------+\n",
      "|age|avg_normalized_score|\n",
      "+---+--------------------+\n",
      "| 22|  0.7572165527347544|\n",
      "| 25|  0.7529176978922437|\n",
      "| 27|  0.7926571656835218|\n",
      "| 28|  0.7844132811542424|\n",
      "| 30|   0.790651382877956|\n",
      "+---+--------------------+\n",
      "\n",
      "Total Users by Age Group:\n"
     ]
    },
    {
     "name": "stderr",
     "output_type": "stream",
     "text": [
      "[Stage 100:===================================>                     (5 + 3) / 8]\r"
     ]
    },
    {
     "name": "stdout",
     "output_type": "stream",
     "text": [
      "+---+-----+\n",
      "|age|count|\n",
      "+---+-----+\n",
      "| 22|  481|\n",
      "| 25|  801|\n",
      "| 27|  199|\n",
      "| 28|  537|\n",
      "| 30|  365|\n",
      "+---+-----+\n",
      "\n"
     ]
    },
    {
     "name": "stderr",
     "output_type": "stream",
     "text": [
      "                                                                                \r"
     ]
    }
   ],
   "source": [
    "# Calculate the average normalized score by age group\n",
    "age_group_insight = joined_df.groupBy(\"age\").agg(\n",
    "    avg(\"normalized_score\").alias(\"avg_normalized_score\")\n",
    ").orderBy(\"age\")\n",
    "\n",
    "# Show the insights by age\n",
    "print(\"Average Normalized Score by Age Group:\")\n",
    "age_group_insight.show()\n",
    "\n",
    "# Additional insight: Calculate the total number of users in each age group\n",
    "age_group_count = joined_df.groupBy(\"age\").count().orderBy(\"age\")\n",
    "\n",
    "# Show the total number of users in each age group\n",
    "print(\"Total Users by Age Group:\")\n",
    "age_group_count.show()\n"
   ]
  },
  {
   "cell_type": "code",
   "execution_count": 24,
   "id": "46cd5438-ef06-4866-b8ff-45537aa21609",
   "metadata": {},
   "outputs": [
    {
     "name": "stderr",
     "output_type": "stream",
     "text": [
      "                                                                                \r"
     ]
    },
    {
     "data": {
      "image/png": "[encoded data removed]",
      "text/plain": [
       "<Figure size 800x600 with 1 Axes>"
      ]
     },
     "metadata": {},
     "output_type": "display_data"
    }
   ],
   "source": [
    "import matplotlib.pyplot as plt\n",
    "\n",
    "# Convert Spark DataFrame to Pandas DataFrame\n",
    "joined_df_pandas = joined_df.toPandas()\n",
    "\n",
    "# Visualizing the age distribution of the users in the joined dataset\n",
    "plt.figure(figsize=(8, 6))\n",
    "plt.hist(joined_df_pandas['age'], bins=10, color='skyblue', edgecolor='black')\n",
    "plt.title(\"Age Distribution of Users\")\n",
    "plt.xlabel(\"Age\")\n",
    "plt.ylabel(\"Frequency\")\n",
    "plt.grid(True)\n",
    "plt.show()\n"
   ]
  },
  {
   "cell_type": "markdown",
   "id": "47da8e26-533b-4809-b046-6178889dfd96",
   "metadata": {},
   "source": [
    "The analysis of the dataset involved several key steps:\n",
    "\n",
    "1. Aggregation: Summary statistics (average and standard deviation) for the \"score\" and \"my_score\" columns were computed.\n",
    "2. Grouping by Gender: Data was grouped by gender to analyze average user scores and the total number of users in each group.\n",
    "3. Joins: A user_info DataFrame was joined with the anime_data to combine user age and anime data.\n",
    "4. Time-based Analysis: Not performed due to the absence of time-related columns.\n",
    "\n",
    "Key insights revealed that male users had higher average scores than females, the official scores were higher than user ratings, and age groups showed varying levels of normalized scores."
   ]
  },
  {
   "cell_type": "markdown",
   "id": "fdb31de6-8954-4779-b8c1-89eb49e57222",
   "metadata": {},
   "source": [
    "***4. Machine Learning Model (Regression/Classification)***"
   ]
  },
  {
   "cell_type": "code",
   "execution_count": 2,
   "id": "f4f47231-095f-466b-a560-8b093d96aefa",
   "metadata": {},
   "outputs": [],
   "source": [
    "from pyspark.sql import SparkSession\n",
    "from pyspark.sql.functions import col, when\n",
    "from pyspark.sql.types import FloatType\n",
    "from pyspark.ml.feature import StringIndexer, VectorAssembler\n",
    "from pyspark.ml.classification import RandomForestClassifier\n",
    "from pyspark.ml.evaluation import MulticlassClassificationEvaluator\n",
    "from pyspark.ml import Pipeline"
   ]
  },
  {
   "cell_type": "code",
   "execution_count": 4,
   "id": "a12a9508-590f-4273-bf5b-f56e80e294db",
   "metadata": {},
   "outputs": [
    {
     "name": "stderr",
     "output_type": "stream",
     "text": [
      "Setting default log level to \"WARN\".\n",
      "To adjust logging level use sc.setLogLevel(newLevel). For SparkR, use setLogLevel(newLevel).\n",
      "24/11/06 23:07:03 WARN NativeCodeLoader: Unable to load native-hadoop library for your platform... using builtin-java classes where applicable\n",
      "24/11/06 23:07:03 WARN Utils: Service 'SparkUI' could not bind on port 4040. Attempting port 4041.\n",
      "24/11/06 23:07:03 WARN Utils: Service 'SparkUI' could not bind on port 4041. Attempting port 4042.\n",
      "24/11/06 23:07:03 WARN Utils: Service 'SparkUI' could not bind on port 4042. Attempting port 4043.\n",
      "24/11/06 23:07:03 WARN Utils: Service 'SparkUI' could not bind on port 4043. Attempting port 4044.\n",
      "24/11/06 23:07:03 WARN Utils: Service 'SparkUI' could not bind on port 4044. Attempting port 4045.\n",
      "[Stage 1:=======================================================> (33 + 1) / 34]\r"
     ]
    },
    {
     "name": "stdout",
     "output_type": "stream",
     "text": [
      "root\n",
      " |-- username: string (nullable = true)\n",
      " |-- anime_id: integer (nullable = true)\n",
      " |-- my_score: integer (nullable = true)\n",
      " |-- user_id: integer (nullable = true)\n",
      " |-- gender: string (nullable = true)\n",
      " |-- title: string (nullable = true)\n",
      " |-- type: string (nullable = true)\n",
      " |-- source: string (nullable = true)\n",
      " |-- score: string (nullable = true)\n",
      " |-- scored_by: double (nullable = true)\n",
      " |-- rank: double (nullable = true)\n",
      " |-- popularity: double (nullable = true)\n",
      " |-- genre: string (nullable = true)\n",
      "\n"
     ]
    },
    {
     "name": "stderr",
     "output_type": "stream",
     "text": [
      "                                                                                \r"
     ]
    }
   ],
   "source": [
    "# Initialize Spark Session\n",
    "spark = SparkSession.builder.appName(\"AnimeScorePrediction\").config(\"spark.driver.memory\", \"8g\").config(\"spark.executor.memory\", \"4g\").getOrCreate()\n",
    "\n",
    "# Load the dataset\n",
    "df = spark.read.csv(\"animedataset.csv\", header=True, inferSchema=True)\n",
    "\n",
    "# Check schema to ensure correct data types\n",
    "df.printSchema()\n",
    "\n"
   ]
  },
  {
   "cell_type": "code",
   "execution_count": 6,
   "id": "c00fc172-1635-492b-885c-8e928b116263",
   "metadata": {},
   "outputs": [],
   "source": [
    "# Create a 'label' column (1 if my_score >= 7, else 0)\n",
    "df = df.withColumn(\"label\", when(col(\"my_score\") >= 7, 1).otherwise(0))\n",
    "\n",
    "# Select available numeric features (remove 'normalized_score' if it doesn't exist)\n",
    "selected_features = [\"score\", \"scored_by\", \"popularity\"]\n"
   ]
  },
  {
   "cell_type": "code",
   "execution_count": 8,
   "id": "516ec25b-3efe-43a2-9888-cedfc10a4b9f",
   "metadata": {},
   "outputs": [],
   "source": [
    "# Handle categorical columns using StringIndexer\n",
    "gender_indexer = StringIndexer(inputCol=\"gender\", outputCol=\"gender_index\", handleInvalid=\"keep\")\n",
    "type_indexer = StringIndexer(inputCol=\"type\", outputCol=\"type_index\", handleInvalid=\"keep\")\n",
    "\n",
    "assembler = VectorAssembler(\n",
    "    inputCols=[\"gender_index\", \"type_index\", \"score\", \"scored_by\", \"popularity\"],\n",
    "    outputCol=\"features\",\n",
    "    handleInvalid=\"skip\"  # or \"keep\"\n",
    ")"
   ]
  },
  {
   "cell_type": "code",
   "execution_count": 10,
   "id": "04a8fac9-2a15-4b58-9fe1-a963429115c6",
   "metadata": {},
   "outputs": [],
   "source": [
    "# Split the data into training and test sets\n",
    "train, test = df.randomSplit([0.8, 0.2], seed=42)\n",
    "\n",
    "# Initialize the RandomForestClassifier\n",
    "rf = RandomForestClassifier(labelCol=\"label\", featuresCol=\"features\", numTrees=10, maxDepth=5)\n",
    "\n",
    "# Build a pipeline with the preprocessing steps and classifier\n",
    "pipeline = Pipeline(stages=[gender_indexer, type_indexer, assembler, rf])\n"
   ]
  },
  {
   "cell_type": "code",
   "execution_count": 12,
   "id": "e770484e-910b-43a0-8c41-0e6cd322a1bc",
   "metadata": {},
   "outputs": [],
   "source": [
    "from pyspark.sql.functions import col\n",
    "\n",
    "# Cast the score column to DoubleType or FloatType\n",
    "train = train.withColumn(\"score\", col(\"score\").cast(\"double\"))\n",
    "test = test.withColumn(\"score\", col(\"score\").cast(\"double\"))\n",
    "\n"
   ]
  },
  {
   "cell_type": "code",
   "execution_count": 14,
   "id": "995d949f-fc9f-4821-b2ff-5cfb6d9c7b10",
   "metadata": {},
   "outputs": [
    {
     "name": "stderr",
     "output_type": "stream",
     "text": [
      "24/11/06 23:07:23 WARN GarbageCollectionMetrics: To enable non-built-in garbage collector(s) List(G1 Concurrent GC), users should configure it(them) to spark.eventLog.gcMetrics.youngGenerationGarbageCollectors or spark.eventLog.gcMetrics.oldGenerationGarbageCollectors\n",
      "                                                                                \r"
     ]
    }
   ],
   "source": [
    "train_sample = train.sample(fraction=0.1, seed=42)  # Adjust fraction as needed\n",
    "test_sample = test.sample(fraction=0.1, seed=42)\n",
    "# Train the model\n",
    "model = pipeline.fit(train_sample)\n",
    "\n",
    "# Make predictions on the test set\n",
    "predictions = model.transform(test_sample)\n"
   ]
  },
  {
   "cell_type": "code",
   "execution_count": 16,
   "id": "3154f89d-5af8-4094-a212-c42e465f75ef",
   "metadata": {},
   "outputs": [
    {
     "name": "stderr",
     "output_type": "stream",
     "text": [
      "                                                                                \r"
     ]
    },
    {
     "name": "stdout",
     "output_type": "stream",
     "text": [
      "+---------+--------+-----+----------+\n",
      "| username|my_score|label|prediction|\n",
      "+---------+--------+-----+----------+\n",
      "|-Ackerman|       7|    1|       0.0|\n",
      "|-Ackerman|       9|    1|       1.0|\n",
      "|-Ackerman|       8|    1|       1.0|\n",
      "|-Ackerman|       7|    1|       1.0|\n",
      "|-Ackerman|       8|    1|       1.0|\n",
      "|-Ackerman|       6|    0|       0.0|\n",
      "|-Ackerman|       7|    1|       0.0|\n",
      "|-Ackerman|       7|    1|       0.0|\n",
      "|-Ackerman|       8|    1|       0.0|\n",
      "|-Ackerman|       6|    0|       0.0|\n",
      "+---------+--------+-----+----------+\n",
      "only showing top 10 rows\n",
      "\n"
     ]
    },
    {
     "name": "stderr",
     "output_type": "stream",
     "text": [
      "                                                                                \r"
     ]
    },
    {
     "name": "stdout",
     "output_type": "stream",
     "text": [
      "Test Accuracy: 0.60\n"
     ]
    },
    {
     "name": "stderr",
     "output_type": "stream",
     "text": [
      "[Stage 28:======================================================> (33 + 1) / 34]\r"
     ]
    },
    {
     "name": "stdout",
     "output_type": "stream",
     "text": [
      "Test F1-Score: 0.60\n"
     ]
    },
    {
     "name": "stderr",
     "output_type": "stream",
     "text": [
      "                                                                                \r"
     ]
    }
   ],
   "source": [
    "# Display sample predictions\n",
    "predictions.select(\"username\", \"my_score\", \"label\", \"prediction\").show(10)\n",
    "\n",
    "# Evaluate the model using accuracy metric\n",
    "evaluator = MulticlassClassificationEvaluator(labelCol=\"label\", predictionCol=\"prediction\", metricName=\"accuracy\")\n",
    "accuracy = evaluator.evaluate(predictions)\n",
    "print(f\"Test Accuracy: {accuracy:.2f}\")\n",
    "\n",
    "evaluator = MulticlassClassificationEvaluator(labelCol=\"label\", predictionCol=\"prediction\", metricName=\"f1\")\n",
    "f1_score = evaluator.evaluate(predictions)\n",
    "print(f\"Test F1-Score: {f1_score:.2f}\")\n"
   ]
  },
  {
   "cell_type": "markdown",
   "id": "16b25a53-38c7-4154-99cb-5f7377fb3797",
   "metadata": {},
   "source": [
    "A classification model was developed to predict anime ratings (high or low) based on features. The dataset was split into 80% training and 20% testing. Key steps included feature engineering, where user ratings above seven were labeled as 1 (high) and others as 0 (low). Categorical columns were transformed using StringIndexer, and features were combined into a \"features\" vector using VectorAssembler. A RandomForestClassifier was used for prediction, and the model was trained on 10% samples from the training and test sets. Performance was evaluated with an accuracy of 60% and an F1-score of 0.60."
   ]
  },
  {
   "cell_type": "markdown",
   "id": "57a15dc9-9cd3-4834-bb58-54b5537721c3",
   "metadata": {},
   "source": [
    "***5. Model Tuning and Evaluation***"
   ]
  },
  {
   "cell_type": "code",
   "execution_count": 18,
   "id": "c69e7ab7-8c38-4a42-949d-577186f5a385",
   "metadata": {},
   "outputs": [],
   "source": [
    "from pyspark.ml import Pipeline\n",
    "from pyspark.ml.feature import VectorAssembler, StringIndexer\n",
    "from pyspark.ml.tuning import ParamGridBuilder, CrossValidator\n",
    "from pyspark.ml.evaluation import RegressionEvaluator\n",
    "from pyspark.ml.regression import LinearRegression\n",
    "from pyspark.sql.functions import when, col\n",
    "from pyspark.sql.types import DoubleType\n",
    "from pyspark.ml.evaluation import MulticlassClassificationEvaluator"
   ]
  },
  {
   "cell_type": "code",
   "execution_count": 19,
   "id": "48ddf278-fa66-437f-8bc3-a164ea11acbd",
   "metadata": {},
   "outputs": [],
   "source": [
    "# Preprocess categorical features (e.g., gender)\n",
    "gender_indexer = StringIndexer(inputCol=\"gender\", outputCol=\"genderIndex\")\n",
    "\n",
    "# Initialize the VectorAssembler with actual column names\n",
    "assembler = VectorAssembler(\n",
    "    inputCols=[\"anime_id\", \"user_id\", \"genderIndex\", \"score\"],\n",
    "    outputCol=\"features\"\n",
    ")\n",
    "\n",
    "# Initialize the model (e.g., Linear Regression)\n",
    "lr = LinearRegression(featuresCol=\"features\", labelCol=\"my_score\")\n"
   ]
  },
  {
   "cell_type": "code",
   "execution_count": 31,
   "id": "fcce27b6-1954-4cdf-a066-9e0357da3d9b",
   "metadata": {},
   "outputs": [
    {
     "name": "stderr",
     "output_type": "stream",
     "text": [
      "[Stage 34:======================================================> (33 + 1) / 34]\r"
     ]
    },
    {
     "name": "stdout",
     "output_type": "stream",
     "text": [
      "Root Mean Squared Error (RMSE): 5.649856891520381\n"
     ]
    },
    {
     "name": "stderr",
     "output_type": "stream",
     "text": [
      "                                                                                \r"
     ]
    }
   ],
   "source": [
    "# Define a ParamGrid with a limited set of hyperparameters\n",
    "paramGrid = (ParamGridBuilder()\n",
    "             .addGrid(lr.regParam, [0.01, 0.1])  \n",
    "             .addGrid(lr.elasticNetParam, [0.0, 0.5])\n",
    "             .build())\n",
    "\n",
    "# Define the evaluator\n",
    "evaluator = RegressionEvaluator(labelCol=\"my_score\", predictionCol=\"prediction\", metricName=\"rmse\")\n",
    "\n",
    "# Assuming 'predictions' is the DataFrame containing the model's predictions\n",
    "rmse_value = evaluator.evaluate(predictions)\n",
    "print(f\"Root Mean Squared Error (RMSE): {rmse_value}\")\n"
   ]
  },
  {
   "cell_type": "code",
   "execution_count": 21,
   "id": "7a1918e7-4fc1-4e31-8bee-69b69974236a",
   "metadata": {},
   "outputs": [
    {
     "data": {
      "text/plain": [
       "CrossValidator_e4ce651119cc"
      ]
     },
     "execution_count": 21,
     "metadata": {},
     "output_type": "execute_result"
    }
   ],
   "source": [
    "# Setup CrossValidator\n",
    "crossval = CrossValidator(estimator=lr,\n",
    "                          estimatorParamMaps=paramGrid,\n",
    "                          evaluator=evaluator,\n",
    "                          numFolds=3)  \n",
    "crossval.setParallelism(2)  \n"
   ]
  },
  {
   "cell_type": "code",
   "execution_count": 22,
   "id": "8bd647e4-f4e5-479a-bd6a-f2c16a569051",
   "metadata": {},
   "outputs": [],
   "source": [
    "# Define the pipeline with preprocessing and model\n",
    "pipeline = Pipeline(stages=[gender_indexer, assembler, crossval])\n"
   ]
  },
  {
   "cell_type": "code",
   "execution_count": 23,
   "id": "1baa8e64-d88a-435e-9d50-0d589dffd498",
   "metadata": {},
   "outputs": [
    {
     "name": "stderr",
     "output_type": "stream",
     "text": [
      "[Stage 32:======================================================> (33 + 1) / 34]\r"
     ]
    },
    {
     "name": "stdout",
     "output_type": "stream",
     "text": [
      "Accuracy: 0.5446927493119667\n",
      "F1 Score: 0.5493707998358963\n"
     ]
    },
    {
     "name": "stderr",
     "output_type": "stream",
     "text": [
      "                                                                                \r"
     ]
    }
   ],
   "source": [
    "# Apply threshold and cast columns to DoubleType\n",
    "threshold = 0.5  # Modify as needed\n",
    "predictions = predictions.withColumn(\"predictionClass\", when(col(\"prediction\") >= threshold, 1).otherwise(0).cast(DoubleType()))\n",
    "predictions = predictions.withColumn(\"labelClass\", when(col(\"my_score\") >= threshold, 1).otherwise(0).cast(DoubleType()))\n",
    "\n",
    "# Initialize the evaluator for accuracy and F1 score\n",
    "accuracy_evaluator = MulticlassClassificationEvaluator(labelCol=\"labelClass\", predictionCol=\"predictionClass\", metricName=\"accuracy\")\n",
    "f1_evaluator = MulticlassClassificationEvaluator(labelCol=\"labelClass\", predictionCol=\"predictionClass\", metricName=\"f1\")\n",
    "\n",
    "# Calculate accuracy and F1 score\n",
    "accuracy = accuracy_evaluator.evaluate(predictions)\n",
    "f1_score = f1_evaluator.evaluate(predictions)\n",
    "\n",
    "print(f\"Accuracy: {accuracy}\")\n",
    "print(f\"F1 Score: {f1_score}\")\n"
   ]
  },
  {
   "cell_type": "markdown",
   "id": "5d54ee5b-72fb-40dc-b708-bbcc1ed984c3",
   "metadata": {},
   "source": [
    "Model tuning involved hyperparameter optimization using cross-validation to improve performance. Categorical data, like gender, was transformed into numeric indices using StringIndexer. Features were combined into a single vector with VectorAssembler, and a Linear Regression model was used to predict user scores. Cross-validation ran through three rounds, adjusting regularization parameters to avoid overfitting, with Root Mean Squared Error (RMSE) used to evaluate the model. The final model's performance was assessed using accuracy (54.47%) and F1-score (0.55), showing moderate success in classification but highlighting areas for improvement in precision and recall balance."
   ]
  },
  {
   "cell_type": "code",
   "execution_count": null,
   "id": "333c1451-a993-4477-b33e-44c86753caa9",
   "metadata": {},
   "outputs": [],
   "source": []
  },
  {
   "cell_type": "code",
   "execution_count": null,
   "id": "52d620de-4e62-458a-b2c8-edd257e0fdac",
   "metadata": {},
   "outputs": [],
   "source": []
  },
  {
   "cell_type": "code",
   "execution_count": null,
   "id": "b5ae04cd-21c3-4c1a-8c17-3700166dd92a",
   "metadata": {},
   "outputs": [],
   "source": []
  },
  {
   "cell_type": "code",
   "execution_count": null,
   "id": "4280712a-7919-4d2f-ab9e-f6c14d373f65",
   "metadata": {},
   "outputs": [],
   "source": []
  }
 ],
 "metadata": {
  "kernelspec": {
   "display_name": "Python 3 (ipykernel)",
   "language": "python",
   "name": "python3"
  },
  "language_info": {
   "codemirror_mode": {
    "name": "ipython",
    "version": 3
   },
   "file_extension": ".py",
   "mimetype": "text/x-python",
   "name": "python",
   "nbconvert_exporter": "python",
   "pygments_lexer": "ipython3",
   "version": "3.12.4"
  }
 },
 "nbformat": 4,
 "nbformat_minor": 5
}
